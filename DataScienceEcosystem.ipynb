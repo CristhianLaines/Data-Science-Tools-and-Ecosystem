{
 "cells": [
  {
   "cell_type": "markdown",
   "id": "f5416726-7e42-4bb5-afc1-28d2660b4f16",
   "metadata": {
    "tags": []
   },
   "source": [
    "# Data Science Tools and Ecosystem"
   ]
  },
  {
   "cell_type": "markdown",
   "id": "7c24282e-0e77-40b3-bba0-92753b9b1934",
   "metadata": {},
   "source": [
    "In this notebook, Data Science Tools and Ecosystem are summarized."
   ]
  },
  {
   "cell_type": "markdown",
   "id": "048d3916-0943-4a77-ac1c-e6644e3e03f2",
   "metadata": {},
   "source": [
    "Exercise 4 - List Data Science Languages\n",
    "Some of the popular languages that Data Scientists use are:\n",
    "\n",
    "1. Python\n",
    "2. R\n",
    "3. SQL"
   ]
  },
  {
   "cell_type": "markdown",
   "id": "04b4a065-2b81-4e2c-b789-4e8d7cb3c116",
   "metadata": {},
   "source": [
    "Exercise 5 - List Data Science Libraries\n",
    "Some of the commonly used libraries used by Data Scientists include:\n",
    "\n",
    "1. Pandas\n",
    "2. NumPy\n",
    "3. Scikit-learn"
   ]
  },
  {
   "cell_type": "markdown",
   "id": "7549ea29-0c12-4bb6-a61a-2892d8d574fe",
   "metadata": {
    "tags": []
   },
   "source": [
    "Exercise 6 - Table of Data Science Tools\n",
    "| Data Science Tools |\n",
    "|--------------------|\n",
    "| Jupyter Notebook   |\n",
    "| RStudio            |\n",
    "| Google Colab       |"
   ]
  },
  {
   "cell_type": "markdown",
   "id": "c421893e-54eb-46db-8db7-166f4c724a57",
   "metadata": {},
   "source": [
    "### Below are a few examples of evaluating arithmetic expressions in Python. "
   ]
  },
  {
   "cell_type": "markdown",
   "id": "90c01000-869f-40b5-aa28-4838c1114daa",
   "metadata": {},
   "source": [
    "Exercise 8 - Code Cell to Multiply and Add Numbers"
   ]
  },
  {
   "cell_type": "code",
   "execution_count": 4,
   "id": "5e88f9fe-f0f1-4b3d-95c5-0f56f5f895ed",
   "metadata": {
    "tags": []
   },
   "outputs": [
    {
     "data": {
      "text/plain": [
       "17"
      ]
     },
     "execution_count": 4,
     "metadata": {},
     "output_type": "execute_result"
    }
   ],
   "source": [
    "result = (3 * 4) + 5\n",
    "result"
   ]
  },
  {
   "cell_type": "markdown",
   "id": "2ef7d09b-9ba9-400e-97e4-3cfec091da41",
   "metadata": {},
   "source": [
    "Exercise 9 - Code Cell to Convert Minutes to Hours"
   ]
  },
  {
   "cell_type": "code",
   "execution_count": 5,
   "id": "c83fe97b-0a85-4815-9b74-cb05ec41a035",
   "metadata": {
    "tags": []
   },
   "outputs": [
    {
     "data": {
      "text/plain": [
       "3.3333333333333335"
      ]
     },
     "execution_count": 5,
     "metadata": {},
     "output_type": "execute_result"
    }
   ],
   "source": [
    "minutes = 200\n",
    "hours = minutes / 60\n",
    "hours"
   ]
  },
  {
   "cell_type": "markdown",
   "id": "6cde1e58-c1c7-4aa5-975c-fe05558073fe",
   "metadata": {},
   "source": [
    "Exercise 10 - Insert a Markdown Cell to List Objectives"
   ]
  },
  {
   "cell_type": "markdown",
   "id": "1163d4fd-ade0-4e83-87f8-53272eb510ba",
   "metadata": {},
   "source": [
    "**Objectives:**\n",
    "\n",
    "- List popular languages for Data Science\n",
    "- Identify commonly used libraries in Data Science\n",
    "- Create tables and format text in Markdown\n",
    "- Write and execute basic arithmetic expressions in Python\n",
    "- Convert units between minutes and hours"
   ]
  },
  {
   "cell_type": "markdown",
   "id": "160c9e31-9c97-42a9-ac57-39d527517531",
   "metadata": {},
   "source": [
    "Exercise 11 - Create a Markdown Cell to Indicate the Author's Name"
   ]
  },
  {
   "cell_type": "markdown",
   "id": "b105581b-eb50-4f01-bb2c-378148f7e20b",
   "metadata": {},
   "source": [
    "## Author\n",
    "[Cristhian Laines Gonzales]"
   ]
  },
  {
   "cell_type": "code",
   "execution_count": null,
   "id": "c8c4c77b-03da-4d98-96f3-1e36bdc95c7a",
   "metadata": {},
   "outputs": [],
   "source": []
  }
 ],
 "metadata": {
  "kernelspec": {
   "display_name": "Python",
   "language": "python",
   "name": "conda-env-python-py"
  },
  "language_info": {
   "codemirror_mode": {
    "name": "ipython",
    "version": 3
   },
   "file_extension": ".py",
   "mimetype": "text/x-python",
   "name": "python",
   "nbconvert_exporter": "python",
   "pygments_lexer": "ipython3",
   "version": "3.7.12"
  }
 },
 "nbformat": 4,
 "nbformat_minor": 5
}
